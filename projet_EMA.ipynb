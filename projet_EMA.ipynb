{
 "cells": [
  {
   "attachments": {},
   "cell_type": "markdown",
   "metadata": {},
   "source": [
    "# Projet EMA\n",
    "\n",
    "Ce projet est réalisé dans le cadre du cours Sécurité des composants à l'ENSTA Bretagne.\n",
    "\n",
    "Source des données : (sur mon Google Drive pour l'instant) => penser à mettre le lien."
   ]
  },
  {
   "cell_type": "code",
   "execution_count": 24,
   "metadata": {},
   "outputs": [],
   "source": [
    "import matplotlib.pyplot as plt\n",
    "import os\n",
    "import re\n",
    "import numpy as np\n",
    "# import modin.pandas as pd\n",
    "import pandas as pd\n",
    "\n",
    "os.environ['MODIN_ENGINE'] = 'ray'  # Modin will use Ray"
   ]
  },
  {
   "cell_type": "code",
   "execution_count": 27,
   "metadata": {
    "tags": []
   },
   "outputs": [
    {
     "data": {
      "text/html": [
       "<div>\n",
       "<style scoped>\n",
       "    .dataframe tbody tr th:only-of-type {\n",
       "        vertical-align: middle;\n",
       "    }\n",
       "\n",
       "    .dataframe tbody tr th {\n",
       "        vertical-align: top;\n",
       "    }\n",
       "\n",
       "    .dataframe thead th {\n",
       "        text-align: right;\n",
       "    }\n",
       "</style>\n",
       "<table border=\"1\" class=\"dataframe\">\n",
       "  <thead>\n",
       "    <tr style=\"text-align: right;\">\n",
       "      <th></th>\n",
       "      <th>0</th>\n",
       "      <th>1</th>\n",
       "      <th>2</th>\n",
       "      <th>3</th>\n",
       "      <th>4</th>\n",
       "      <th>5</th>\n",
       "      <th>6</th>\n",
       "      <th>7</th>\n",
       "      <th>8</th>\n",
       "      <th>9</th>\n",
       "      <th>...</th>\n",
       "      <th>3990</th>\n",
       "      <th>3991</th>\n",
       "      <th>3992</th>\n",
       "      <th>3993</th>\n",
       "      <th>3994</th>\n",
       "      <th>3995</th>\n",
       "      <th>3996</th>\n",
       "      <th>3997</th>\n",
       "      <th>3998</th>\n",
       "      <th>3999</th>\n",
       "    </tr>\n",
       "  </thead>\n",
       "  <tbody>\n",
       "    <tr>\n",
       "      <th>0</th>\n",
       "      <td>0.003253</td>\n",
       "      <td>0.003226</td>\n",
       "      <td>0.003206</td>\n",
       "      <td>0.003196</td>\n",
       "      <td>0.003189</td>\n",
       "      <td>0.003189</td>\n",
       "      <td>0.003193</td>\n",
       "      <td>0.003203</td>\n",
       "      <td>0.003213</td>\n",
       "      <td>0.003223</td>\n",
       "      <td>...</td>\n",
       "      <td>0.002434</td>\n",
       "      <td>0.00249</td>\n",
       "      <td>0.002554</td>\n",
       "      <td>0.002627</td>\n",
       "      <td>0.002703</td>\n",
       "      <td>0.00279</td>\n",
       "      <td>0.002883</td>\n",
       "      <td>0.002986</td>\n",
       "      <td>0.003093</td>\n",
       "      <td>0.003209</td>\n",
       "    </tr>\n",
       "  </tbody>\n",
       "</table>\n",
       "<p>1 rows × 4000 columns</p>\n",
       "</div>"
      ],
      "text/plain": [
       "       0         1         2         3         4         5         6     \\\n",
       "0  0.003253  0.003226  0.003206  0.003196  0.003189  0.003189  0.003193   \n",
       "\n",
       "       7         8         9     ...      3990     3991      3992      3993  \\\n",
       "0  0.003203  0.003213  0.003223  ...  0.002434  0.00249  0.002554  0.002627   \n",
       "\n",
       "       3994     3995      3996      3997      3998      3999  \n",
       "0  0.002703  0.00279  0.002883  0.002986  0.003093  0.003209  \n",
       "\n",
       "[1 rows x 4000 columns]"
      ]
     },
     "execution_count": 27,
     "metadata": {},
     "output_type": "execute_result"
    }
   ],
   "source": [
    "directory = os.path.join(os.getcwd(), 'TRACES_DATA')\n",
    "tracesFiles = os.listdir(directory)\n",
    "df = pd.read_csv(os.path.join(directory, tracesFiles[0]), sep=',', header=None)\n",
    "df.head(5)\n",
    "# show the first 5 rows"
   ]
  },
  {
   "attachments": {},
   "cell_type": "markdown",
   "metadata": {},
   "source": [
    "## Récupération des informations dans le nom des fichiers\n",
    "\n",
    "Les fichiers sont de la forme : `trace_AES_0000001_key=4c8cdf23b5c906f79057ec7184193a67_pti=8b5061cad6ae6aa4369eac99585d2bcb_cto=554b407d3634156c081abe31752ebd02.csv`\n"
   ]
  },
  {
   "cell_type": "code",
   "execution_count": 7,
   "metadata": {},
   "outputs": [
    {
     "name": "stdout",
     "output_type": "stream",
     "text": [
      "20000 20000 20000\n"
     ]
    }
   ],
   "source": [
    "keys = []\n",
    "pti = []\n",
    "cto = []\n",
    "regex_filename = re.compile(\n",
    "    r'\\w*key=([a-z0-9]+)_pti=([a-z0-9]+)_cto=([a-z0-9]+).csv')\n",
    "for filename in tracesFiles:\n",
    "    # print(filename)\n",
    "    matchfilename = regex_filename.match(filename)\n",
    "    if (matchfilename):\n",
    "        keys.append(matchfilename.group(1))\n",
    "        pti.append(matchfilename.group(2))\n",
    "        cto.append(matchfilename.group(3))\n",
    "    # print(matchCto)\n",
    "print(len(keys), len(pti), len(cto))\n"
   ]
  },
  {
   "attachments": {},
   "cell_type": "markdown",
   "metadata": {},
   "source": [
    "On veut des matrices de la forme :\n",
    "\n",
    "- keys : 20 000 lignes, 16 colonnes\n",
    "- pti : 20 000 lignes, 16 colonnes\n",
    "- cto : 20 000 lignes, 16 colonnes\n",
    "- traces : 20 000 lignes, 4 000 colonnes\n",
    "\n",
    "\n",
    "Ensuite, on les enregistre dans leur fichier respectif."
   ]
  },
  {
   "cell_type": "code",
   "execution_count": 29,
   "metadata": {},
   "outputs": [
    {
     "name": "stdout",
     "output_type": "stream",
     "text": [
      "4c8cdf23b5c906f79057ec7184193a67\n",
      "101752775046435598298791685242631043687\n",
      "[76, 140, 223, 35, 181, 201, 6, 247, 144, 87, 236, 113, 132, 25, 58, 103]\n"
     ]
    },
    {
     "data": {
      "text/plain": [
       "76"
      ]
     },
     "execution_count": 29,
     "metadata": {},
     "output_type": "execute_result"
    }
   ],
   "source": [
    "# Convertir une donnée en binaire\n",
    "data = keys[1]\n",
    "print(data)\n",
    "print(int(data, 16))\n",
    "res = [int(data[i:i+2], 16) for i in range(0, len(data), 2)]\n",
    "print(res)\n",
    "int(data[:2], 16)\n",
    "\n"
   ]
  },
  {
   "cell_type": "code",
   "execution_count": 16,
   "metadata": {},
   "outputs": [
    {
     "name": "stdout",
     "output_type": "stream",
     "text": [
      "(1000, 4000)\n",
      "[[ 3.2526e-03  3.2260e-03  3.2060e-03 ...  2.9863e-03  3.0928e-03\n",
      "   3.2093e-03]\n",
      " [ 2.1939e-03  2.1973e-03  2.2039e-03 ...  2.7399e-03  2.7066e-03\n",
      "   2.6634e-03]\n",
      " [ 2.2672e-03  2.2971e-03  2.3238e-03 ...  3.7953e-04  2.5302e-04\n",
      "   1.2984e-04]\n",
      " ...\n",
      " [ 1.7478e-03  1.7645e-03  1.7844e-03 ... -1.3983e-04 -6.6584e-05\n",
      "   3.3292e-06]\n",
      " [-7.2909e-04 -7.1245e-04 -6.8914e-04 ... -1.2651e-03 -1.2451e-03\n",
      "  -1.2218e-03]\n",
      " [-2.2905e-03 -2.1740e-03 -2.0475e-03 ... -1.0920e-03 -1.0387e-03\n",
      "  -9.8211e-04]]\n"
     ]
    }
   ],
   "source": [
    "traces = np.zeros((0, 4000))\n",
    "\n",
    "for filename in tracesFiles[:1000]:\n",
    "    fullPath = os.path.join(directory, filename)\n",
    "    values = np.loadtxt(fullPath, dtype=float, delimiter=',')\n",
    "    traces = np.append(traces, values.reshape((1, 4000)), axis=0)\n",
    "    # print(\"Traces : \", values[:10], \"avec\", len(values), \"valeurs\")\n",
    "\n",
    "print(traces.shape)\n",
    "print(traces[:10])\n"
   ]
  },
  {
   "cell_type": "code",
   "execution_count": 4,
   "metadata": {},
   "outputs": [
    {
     "name": "stderr",
     "output_type": "stream",
     "text": [
      "UserWarning: Distributing <class 'NoneType'> object. This may take some time.\n",
      "FutureWarning: The default dtype for empty Series will be 'object' instead of 'float64' in a future version. Specify a dtype explicitly to silence this warning.\n",
      "FutureWarning: The default dtype for empty Series will be 'object' instead of 'float64' in a future version. Specify a dtype explicitly to silence this warning.\n",
      "FutureWarning: The default dtype for empty Series will be 'object' instead of 'float64' in a future version. Specify a dtype explicitly to silence this warning.\n",
      "FutureWarning: The default dtype for empty Series will be 'object' instead of 'float64' in a future version. Specify a dtype explicitly to silence this warning.\n",
      "FutureWarning: The default dtype for empty Series will be 'object' instead of 'float64' in a future version. Specify a dtype explicitly to silence this warning.\n",
      "\n",
      "KeyboardInterrupt\n",
      "\n"
     ]
    }
   ],
   "source": [
    "df = pd.DataFrame()\n",
    "for filename in tracesFiles[:100]:\n",
    "    df = pd.read_csv(os.path.join(directory, filename), sep=',')\n",
    "df\n"
   ]
  },
  {
   "cell_type": "code",
   "execution_count": 36,
   "metadata": {},
   "outputs": [
    {
     "ename": "KeyboardInterrupt",
     "evalue": "",
     "output_type": "error",
     "traceback": [
      "\u001b[1;31m---------------------------------------------------------------------------\u001b[0m",
      "\u001b[1;31mKeyboardInterrupt\u001b[0m                         Traceback (most recent call last)",
      "Cell \u001b[1;32mIn[36], line 19\u001b[0m\n\u001b[0;32m     14\u001b[0m \u001b[39m# Boucle pour lire les fichiers CSV\u001b[39;00m\n\u001b[0;32m     15\u001b[0m \u001b[39mfor\u001b[39;00m file \u001b[39min\u001b[39;00m tracesFiles[:\u001b[39m100\u001b[39m]:\n\u001b[0;32m     16\u001b[0m     \u001b[39m# Test with numpy\u001b[39;00m\n\u001b[0;32m     17\u001b[0m     \u001b[39m# data_matrix = readcsv_numpy(os.path.join(directory, file), data_matrix)\u001b[39;00m\n\u001b[0;32m     18\u001b[0m     \u001b[39m# Test with pandas\u001b[39;00m\n\u001b[1;32m---> 19\u001b[0m     data_pandas \u001b[39m=\u001b[39m readcsv_pandas(os\u001b[39m.\u001b[39;49mpath\u001b[39m.\u001b[39;49mjoin(directory, file), data_pandas)\n\u001b[0;32m     21\u001b[0m \u001b[39m# Afficher la matrice\u001b[39;00m\n\u001b[0;32m     22\u001b[0m \u001b[39mprint\u001b[39m(data_matrix[:\u001b[39m10\u001b[39m])\n",
      "Cell \u001b[1;32mIn[36], line 10\u001b[0m, in \u001b[0;36mreadcsv_pandas\u001b[1;34m(filename, data_pandas)\u001b[0m\n\u001b[0;32m      9\u001b[0m \u001b[39mdef\u001b[39;00m \u001b[39mreadcsv_pandas\u001b[39m(filename:\u001b[39mstr\u001b[39m, data_pandas: pd\u001b[39m.\u001b[39mDataFrame):\n\u001b[1;32m---> 10\u001b[0m     data \u001b[39m=\u001b[39m pd\u001b[39m.\u001b[39;49mread_csv(filename, sep\u001b[39m=\u001b[39;49m\u001b[39m'\u001b[39;49m\u001b[39m,\u001b[39;49m\u001b[39m'\u001b[39;49m, header\u001b[39m=\u001b[39;49m\u001b[39mNone\u001b[39;49;00m)\n\u001b[0;32m     11\u001b[0m     data_pandas \u001b[39m=\u001b[39m pd\u001b[39m.\u001b[39mconcat([data_pandas, data], axis\u001b[39m=\u001b[39m\u001b[39m0\u001b[39m)\n\u001b[0;32m     12\u001b[0m     \u001b[39mreturn\u001b[39;00m data_pandas\n",
      "File \u001b[1;32mc:\\Users\\Mathis\\.conda\\envs\\python3.9\\lib\\site-packages\\pandas\\util\\_decorators.py:311\u001b[0m, in \u001b[0;36mdeprecate_nonkeyword_arguments.<locals>.decorate.<locals>.wrapper\u001b[1;34m(*args, **kwargs)\u001b[0m\n\u001b[0;32m    305\u001b[0m \u001b[39mif\u001b[39;00m \u001b[39mlen\u001b[39m(args) \u001b[39m>\u001b[39m num_allow_args:\n\u001b[0;32m    306\u001b[0m     warnings\u001b[39m.\u001b[39mwarn(\n\u001b[0;32m    307\u001b[0m         msg\u001b[39m.\u001b[39mformat(arguments\u001b[39m=\u001b[39marguments),\n\u001b[0;32m    308\u001b[0m         \u001b[39mFutureWarning\u001b[39;00m,\n\u001b[0;32m    309\u001b[0m         stacklevel\u001b[39m=\u001b[39mstacklevel,\n\u001b[0;32m    310\u001b[0m     )\n\u001b[1;32m--> 311\u001b[0m \u001b[39mreturn\u001b[39;00m func(\u001b[39m*\u001b[39margs, \u001b[39m*\u001b[39m\u001b[39m*\u001b[39mkwargs)\n",
      "File \u001b[1;32mc:\\Users\\Mathis\\.conda\\envs\\python3.9\\lib\\site-packages\\pandas\\io\\parsers\\readers.py:680\u001b[0m, in \u001b[0;36mread_csv\u001b[1;34m(filepath_or_buffer, sep, delimiter, header, names, index_col, usecols, squeeze, prefix, mangle_dupe_cols, dtype, engine, converters, true_values, false_values, skipinitialspace, skiprows, skipfooter, nrows, na_values, keep_default_na, na_filter, verbose, skip_blank_lines, parse_dates, infer_datetime_format, keep_date_col, date_parser, dayfirst, cache_dates, iterator, chunksize, compression, thousands, decimal, lineterminator, quotechar, quoting, doublequote, escapechar, comment, encoding, encoding_errors, dialect, error_bad_lines, warn_bad_lines, on_bad_lines, delim_whitespace, low_memory, memory_map, float_precision, storage_options)\u001b[0m\n\u001b[0;32m    665\u001b[0m kwds_defaults \u001b[39m=\u001b[39m _refine_defaults_read(\n\u001b[0;32m    666\u001b[0m     dialect,\n\u001b[0;32m    667\u001b[0m     delimiter,\n\u001b[1;32m   (...)\u001b[0m\n\u001b[0;32m    676\u001b[0m     defaults\u001b[39m=\u001b[39m{\u001b[39m\"\u001b[39m\u001b[39mdelimiter\u001b[39m\u001b[39m\"\u001b[39m: \u001b[39m\"\u001b[39m\u001b[39m,\u001b[39m\u001b[39m\"\u001b[39m},\n\u001b[0;32m    677\u001b[0m )\n\u001b[0;32m    678\u001b[0m kwds\u001b[39m.\u001b[39mupdate(kwds_defaults)\n\u001b[1;32m--> 680\u001b[0m \u001b[39mreturn\u001b[39;00m _read(filepath_or_buffer, kwds)\n",
      "File \u001b[1;32mc:\\Users\\Mathis\\.conda\\envs\\python3.9\\lib\\site-packages\\pandas\\io\\parsers\\readers.py:581\u001b[0m, in \u001b[0;36m_read\u001b[1;34m(filepath_or_buffer, kwds)\u001b[0m\n\u001b[0;32m    578\u001b[0m     \u001b[39mreturn\u001b[39;00m parser\n\u001b[0;32m    580\u001b[0m \u001b[39mwith\u001b[39;00m parser:\n\u001b[1;32m--> 581\u001b[0m     \u001b[39mreturn\u001b[39;00m parser\u001b[39m.\u001b[39;49mread(nrows)\n",
      "File \u001b[1;32mc:\\Users\\Mathis\\.conda\\envs\\python3.9\\lib\\site-packages\\pandas\\io\\parsers\\readers.py:1255\u001b[0m, in \u001b[0;36mTextFileReader.read\u001b[1;34m(self, nrows)\u001b[0m\n\u001b[0;32m   1253\u001b[0m nrows \u001b[39m=\u001b[39m validate_integer(\u001b[39m\"\u001b[39m\u001b[39mnrows\u001b[39m\u001b[39m\"\u001b[39m, nrows)\n\u001b[0;32m   1254\u001b[0m \u001b[39mtry\u001b[39;00m:\n\u001b[1;32m-> 1255\u001b[0m     index, columns, col_dict \u001b[39m=\u001b[39m \u001b[39mself\u001b[39;49m\u001b[39m.\u001b[39;49m_engine\u001b[39m.\u001b[39;49mread(nrows)\n\u001b[0;32m   1256\u001b[0m \u001b[39mexcept\u001b[39;00m \u001b[39mException\u001b[39;00m:\n\u001b[0;32m   1257\u001b[0m     \u001b[39mself\u001b[39m\u001b[39m.\u001b[39mclose()\n",
      "File \u001b[1;32mc:\\Users\\Mathis\\.conda\\envs\\python3.9\\lib\\site-packages\\pandas\\io\\parsers\\c_parser_wrapper.py:225\u001b[0m, in \u001b[0;36mCParserWrapper.read\u001b[1;34m(self, nrows)\u001b[0m\n\u001b[0;32m    223\u001b[0m \u001b[39mtry\u001b[39;00m:\n\u001b[0;32m    224\u001b[0m     \u001b[39mif\u001b[39;00m \u001b[39mself\u001b[39m\u001b[39m.\u001b[39mlow_memory:\n\u001b[1;32m--> 225\u001b[0m         chunks \u001b[39m=\u001b[39m \u001b[39mself\u001b[39;49m\u001b[39m.\u001b[39;49m_reader\u001b[39m.\u001b[39;49mread_low_memory(nrows)\n\u001b[0;32m    226\u001b[0m         \u001b[39m# destructive to chunks\u001b[39;00m\n\u001b[0;32m    227\u001b[0m         data \u001b[39m=\u001b[39m _concatenate_chunks(chunks)\n",
      "File \u001b[1;32mc:\\Users\\Mathis\\.conda\\envs\\python3.9\\lib\\site-packages\\pandas\\_libs\\parsers.pyx:805\u001b[0m, in \u001b[0;36mpandas._libs.parsers.TextReader.read_low_memory\u001b[1;34m()\u001b[0m\n",
      "File \u001b[1;32mc:\\Users\\Mathis\\.conda\\envs\\python3.9\\lib\\site-packages\\pandas\\_libs\\parsers.pyx:883\u001b[0m, in \u001b[0;36mpandas._libs.parsers.TextReader._read_rows\u001b[1;34m()\u001b[0m\n",
      "File \u001b[1;32mc:\\Users\\Mathis\\.conda\\envs\\python3.9\\lib\\site-packages\\pandas\\_libs\\parsers.pyx:1026\u001b[0m, in \u001b[0;36mpandas._libs.parsers.TextReader._convert_column_data\u001b[1;34m()\u001b[0m\n",
      "File \u001b[1;32mc:\\Users\\Mathis\\.conda\\envs\\python3.9\\lib\\site-packages\\pandas\\_libs\\parsers.pyx:1072\u001b[0m, in \u001b[0;36mpandas._libs.parsers.TextReader._convert_tokens\u001b[1;34m()\u001b[0m\n",
      "File \u001b[1;32mc:\\Users\\Mathis\\.conda\\envs\\python3.9\\lib\\site-packages\\pandas\\_libs\\parsers.pyx:1147\u001b[0m, in \u001b[0;36mpandas._libs.parsers.TextReader._convert_with_dtype\u001b[1;34m()\u001b[0m\n",
      "File \u001b[1;32mc:\\Users\\Mathis\\.conda\\envs\\python3.9\\lib\\site-packages\\pandas\\core\\dtypes\\common.py:1429\u001b[0m, in \u001b[0;36mis_extension_array_dtype\u001b[1;34m(arr_or_dtype)\u001b[0m\n\u001b[0;32m   1420\u001b[0m     \u001b[39m# Note: if other EA dtypes are ever held in HybridBlock, exclude those\u001b[39;00m\n\u001b[0;32m   1421\u001b[0m     \u001b[39m#  here too.\u001b[39;00m\n\u001b[0;32m   1422\u001b[0m     \u001b[39m# NB: need to check DatetimeTZDtype and not is_datetime64tz_dtype\u001b[39;00m\n\u001b[0;32m   1423\u001b[0m     \u001b[39m#  to exclude ArrowTimestampUSDtype\u001b[39;00m\n\u001b[0;32m   1424\u001b[0m     \u001b[39mreturn\u001b[39;00m \u001b[39misinstance\u001b[39m(dtype, ExtensionDtype) \u001b[39mand\u001b[39;00m \u001b[39mnot\u001b[39;00m \u001b[39misinstance\u001b[39m(\n\u001b[0;32m   1425\u001b[0m         dtype, (DatetimeTZDtype, PeriodDtype)\n\u001b[0;32m   1426\u001b[0m     )\n\u001b[1;32m-> 1429\u001b[0m \u001b[39mdef\u001b[39;00m \u001b[39mis_extension_array_dtype\u001b[39m(arr_or_dtype) \u001b[39m-\u001b[39m\u001b[39m>\u001b[39m \u001b[39mbool\u001b[39m:\n\u001b[0;32m   1430\u001b[0m     \u001b[39m\"\"\"\u001b[39;00m\n\u001b[0;32m   1431\u001b[0m \u001b[39m    Check if an object is a pandas extension array type.\u001b[39;00m\n\u001b[0;32m   1432\u001b[0m \n\u001b[1;32m   (...)\u001b[0m\n\u001b[0;32m   1472\u001b[0m \u001b[39m    False\u001b[39;00m\n\u001b[0;32m   1473\u001b[0m \u001b[39m    \"\"\"\u001b[39;00m\n\u001b[0;32m   1474\u001b[0m     dtype \u001b[39m=\u001b[39m \u001b[39mgetattr\u001b[39m(arr_or_dtype, \u001b[39m\"\u001b[39m\u001b[39mdtype\u001b[39m\u001b[39m\"\u001b[39m, arr_or_dtype)\n",
      "\u001b[1;31mKeyboardInterrupt\u001b[0m: "
     ]
    }
   ],
   "source": [
    "# Initialisation de la matrice pour stocker les données\n",
    "data_matrix = np.empty((0,4))\n",
    "data_pandas = pd.DataFrame()\n",
    "\n",
    "def readcsv_numpy(filename, data_matrix):\n",
    "    data = np.genfromtxt(filename, delimiter=\",\")\n",
    "    data_matrix = np.append(data_matrix.reshape(data_matrix.shape[0],data.shape[0]), data.reshape(1,data.shape[0]), axis=0)\n",
    "    return data_matrix\n",
    "def readcsv_pandas(filename:str, data_pandas: pd.DataFrame):\n",
    "    data = pd.read_csv(filename, sep=',', header=None)\n",
    "    data_pandas = pd.concat([data_pandas, data], axis=0)\n",
    "    return data_pandas\n",
    "\n",
    "# Boucle pour lire les fichiers CSV\n",
    "for file in tracesFiles[:100]:\n",
    "    # Test with numpy\n",
    "    # data_matrix = readcsv_numpy(os.path.join(directory, file), data_matrix)\n",
    "    # Test with pandas\n",
    "    data_pandas = readcsv_pandas(os.path.join(directory, file), data_pandas)\n",
    "\n",
    "# Afficher la matrice\n",
    "print(data_matrix[:10])"
   ]
  }
 ],
 "metadata": {
  "kernelspec": {
   "display_name": "python3.9",
   "language": "python",
   "name": "python3"
  },
  "language_info": {
   "codemirror_mode": {
    "name": "ipython",
    "version": 3
   },
   "file_extension": ".py",
   "mimetype": "text/x-python",
   "name": "python",
   "nbconvert_exporter": "python",
   "pygments_lexer": "ipython3",
   "version": "3.9.16"
  },
  "orig_nbformat": 4,
  "vscode": {
   "interpreter": {
    "hash": "05fa5a9a77402fe086a4636f9a71778fa4ca2530c7be19dde571ce0f59a17cd3"
   }
  }
 },
 "nbformat": 4,
 "nbformat_minor": 2
}
