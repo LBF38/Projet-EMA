{
 "cells": [
  {
   "cell_type": "code",
   "execution_count": null,
   "metadata": {},
   "outputs": [],
   "source": [
    "%%file keysched.m\n",
    "function w = keysched(key)\n",
    "    global S_box;\n",
    "    global m;\n",
    "    global polyaes;\n",
    "\n",
    "    subkey = uint32(key);\n",
    "    rcon = gf(1, m, polyaes);\n",
    "\n",
    "    for r = 1:10\n",
    "        % Rotword\n",
    "        subword = subkey([2 3 4 1], end);\n",
    "        % Subword\n",
    "        subword = S_box(subword + 1);\n",
    "        % Rcon\n",
    "        subword(1) = bitxor(subword(1), rcon.x);\n",
    "        w(:, 1, r) = bitxor(subkey(:, 1), subword);\n",
    "        subword = w(:, 1, r);\n",
    "\n",
    "        for wd = 2:4\n",
    "            w(:, wd, r) = bitxor(subkey(:, wd), subword);\n",
    "            subword = w(:, wd, r);\n",
    "        end\n",
    "\n",
    "        subkey = w(:, :, r);\n",
    "        rcon = gf(2, m, polyaes) * rcon;\n",
    "    end\n",
    "\n",
    "end\n",
    "\n"
   ]
  },
  {
   "cell_type": "code",
   "execution_count": 2,
   "metadata": {},
   "outputs": [
    {
     "name": "stdout",
     "output_type": "stream",
     "text": [
      "Created file 'c:\\Users\\Mathis\\Desktop\\Projet EMA\\gen_s_box.m'.\n"
     ]
    }
   ],
   "source": [
    "%%file gen_s_box.m\n",
    "\n",
    "function s_box = gen_s_box\n",
    "    global m;\n",
    "    global polyaes;\n",
    "    Ta = gf([[1 0 0 0 1 1 1 1];\n",
    "                 [1 1 0 0 0 1 1 1];\n",
    "                 [1 1 1 0 0 0 1 1];\n",
    "                 [1 1 1 1 0 0 0 1];\n",
    "                 [1 1 1 1 1 0 0 0];\n",
    "                 [0 1 1 1 1 1 0 0];\n",
    "                 [0 0 1 1 1 1 1 0];\n",
    "                 [0 0 0 1 1 1 1 1]], 1);\n",
    "    % Calcul de l'inverse\n",
    "    %s_box = gf((1:2^m-1),m,polyaes).^(-1);\n",
    "    s_box = gf(ones(1, 2 ^ m - 1), m, polyaes) ./ gf((1:2 ^ m - 1), m, polyaes);\n",
    "    s_box = [gf(0, m, polyaes) s_box];\n",
    "    % Calcul de la fonction affine\n",
    "    s_box = Ta * gf(de2bi(s_box.x', 'right-msb')', 1) + gf([1; 1; 0; 0; 0; 1; 1; 0], 1) * ones(1, 2 ^ m);\n",
    "    s_box = bi2de(s_box.x', 'right-msb');\n",
    "end\n"
   ]
  }
 ],
 "metadata": {
  "kernelspec": {
   "display_name": "Matlab",
   "language": "matlab",
   "name": "matlab"
  },
  "language_info": {
   "codemirror_mode": "octave",
   "file_extension": ".m",
   "help_links": [
    {
     "text": "MetaKernel Magics",
     "url": "https://metakernel.readthedocs.io/en/latest/source/README.html"
    }
   ],
   "mimetype": "text/x-octave",
   "name": "matlab",
   "version": "3.9.16 (main, Jan 11 2023, 16:16:36) [MSC v.1916 64 bit (AMD64)]"
  },
  "orig_nbformat": 4,
  "vscode": {
   "interpreter": {
    "hash": "05fa5a9a77402fe086a4636f9a71778fa4ca2530c7be19dde571ce0f59a17cd3"
   }
  }
 },
 "nbformat": 4,
 "nbformat_minor": 2
}
