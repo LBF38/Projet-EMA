{
 "cells": [
  {
   "attachments": {},
   "cell_type": "markdown",
   "metadata": {},
   "source": [
    "# Analyse des traces électromagnétiques\n",
    "Nous allons analyser les traces collectées sur l'appareil à attaquer. En émettant des hypothèses de clés et en les testant sur les traces, nous allons pouvoir déterminer la clé utilisée pour chiffrer les données.\n",
    "\n",
    "L'algorithme visée est l'AES-128. Il est basé sur 10 tours de chiffrement des données. Chaque tour réalise 3 opérations : \n",
    "- une substitution de bits (S-Box)\n",
    "- un décalage de bits (ShiftRows)\n",
    "- une multiplication de bits (MixColumns)"
   ]
  },
  {
   "cell_type": "code",
   "execution_count": 1,
   "metadata": {},
   "outputs": [
    {
     "name": "stdout",
     "output_type": "stream",
     "text": [
      "Tailles des matrices :\n",
      "keys : 20000     16\n",
      "pti : 20000     16\n",
      "cto : 20000     16\n",
      "traces : 20000   4000\n",
      "\n"
     ]
    }
   ],
   "source": [
    "directory = 'TRACES_DATA_CONVERTED';\n",
    "load('TRACES_DATA_CONVERTED\\keys.mat')\n",
    "load('TRACES_DATA_CONVERTED\\pti.mat')\n",
    "load('TRACES_DATA_CONVERTED\\cto.mat')\n",
    "load('TRACES_DATA_CONVERTED\\traces.mat')\n",
    "\n",
    "disp('Tailles des matrices :')\n",
    "disp(['keys : ' num2str(size(keys))])\n",
    "disp(['pti : ' num2str(size(pti))])\n",
    "disp(['cto : ' num2str(size(cto))])\n",
    "disp(['traces : ' num2str(size(traces))])"
   ]
  },
  {
   "cell_type": "markdown",
   "metadata": {},
   "source": [
    "# Affichage de la moyenne des traces\n",
    "On trace la moyenne des traces sur un graphique. On voit que l'on obtient 12 pics. Or, on sait que l'AES-128 est sur 10 tours. \n",
    "Cette différence vient d'une mauvaise implémentation matérielle. C'est notamment pour cela que l'on attaque par le bas de l'algorithme.\n",
    "=> On attaque sur le 10e round."
   ]
  },
  {
   "cell_type": "code",
   "execution_count": 2,
   "metadata": {},
   "outputs": [
    {
     "name": "stdout",
     "output_type": "stream",
     "text": [
      "\n"
     ]
    },
    {
     "data": {
      "image/png": "[encoded data removed]",
      "text/plain": [
       "<IPython.core.display.Image object>"
      ]
     },
     "metadata": {},
     "output_type": "display_data"
    }
   ],
   "source": [
    "traces_mean = mean(traces);\n",
    "figure\n",
    "plot(traces_mean)\n"
   ]
  },
  {
   "cell_type": "markdown",
   "metadata": {},
   "source": [
    "# Objectif\n",
    "On cherche à inverser les fonctions de chiffrement. \n",
    "Notamment, on cherche à inverser la S_Box.\n",
    "\n",
    "Etape 1 : on cherche les hypothèses sur les clés => $w_{10}$ \\\n",
    "Etape 2 : on crée toutes les hypothèses pour les sous-clés => $Z$ de dimension $[N_t \\times 256]$ \\\n",
    "Etape 3 : on remonte les boîtes de l'algo (ShiftRow et SBox) \\\n",
    "Etape 4 : on fait une corrélation entre les traces et les hypothèses"
   ]
  },
  {
   "cell_type": "code",
   "execution_count": 2,
   "metadata": {},
   "outputs": [
    {
     "name": "stdout",
     "output_type": "stream",
     "text": [
      "\n",
      "keys4x4 =\n",
      "\n",
      "    76   181   144   132\n",
      "   140   201    87    25\n",
      "   223     6   236    58\n",
      "    35   247   113   103\n",
      "\n",
      "\n",
      "  4x4x11 uint32 array\n",
      "\n",
      "all_w(:,:,1) =\n",
      "\n",
      "    76   181   144   132\n",
      "   140   201    87    25\n",
      "   223     6   236    58\n",
      "    35   247   113   103\n",
      "\n",
      "\n",
      "all_w(:,:,2) =\n",
      "\n",
      "   153    44   188    56\n",
      "    12   197   146   139\n",
      "    90    92   176   138\n",
      "   124   139   250   157\n",
      "\n",
      "\n",
      "all_w(:,:,3) =\n",
      "\n",
      "   166   138    54    14\n",
      "   114   183    37   174\n",
      "     4    88   232    98\n",
      "   123   240    10   151\n",
      "\n",
      "\n",
      "all_w(:,:,4) =\n",
      "\n",
      "    70   204   250   244\n",
      "   216   111    74   228\n",
      "   140   212    60    94\n",
      "   208    32    42   189\n",
      "\n",
      "\n",
      "all_w(:,:,5) =\n",
      "\n",
      "    39   235    17   229\n",
      "   128   239   165    65\n",
      "   246    34    30    64\n",
      "   111    79   101   216\n",
      "\n",
      "\n",
      "all_w(:,:,6) =\n",
      "\n",
      "   180    95    78   171\n",
      "   137   102   195   130\n",
      "   151   181   171   235\n",
      "   182   249   156    68\n",
      "\n",
      "\n",
      "all_w(:,:,7) =\n",
      "\n",
      "   135   216   150    61\n",
      "    96     6   197    71\n",
      "   140    57   146   121\n",
      "   212    45   177   245\n",
      "\n",
      "\n",
      "all_w(:,:,8) =\n",
      "\n",
      "   103   191    41    20\n",
      "   214   208    21    82\n",
      "   106    83   193   184\n",
      "   243   222   111   154\n",
      "\n",
      "\n",
      "all_w(:,:,9) =\n",
      "\n",
      "   231    88   113   101\n",
      "   186   106   127    45\n",
      "   210   129    64   248\n",
      "     9   215   184    34\n",
      "\n",
      "\n",
      "all_w(:,:,10) =\n",
      "\n",
      "    36   124    13   104\n",
      "   251   145   238   195\n",
      "    65   192   128   120\n",
      "    68   147    43     9\n",
      "\n",
      "\n",
      "all_w(:,:,11) =\n",
      "\n",
      "    60    64    77    37\n",
      "    71   214    56   251\n",
      "    64   128     0   120\n",
      "     1   146   185   176\n",
      "\n",
      "\n",
      "w10 =\n",
      "\n",
      "  4x4 uint32 matrix\n",
      "\n",
      "    60    64    77    37\n",
      "    71   214    56   251\n",
      "    64   128     0   120\n",
      "     1   146   185   176\n",
      "\n",
      "\n"
     ]
    }
   ],
   "source": [
    "keys4x4 = reshape(keys(1, :), [4 4])\n",
    "all_w = keysched2(uint32(keys4x4));\n",
    "\n",
    "all_w\n",
    "w10 = all_w(:, :, 11) % point d'arrivée. Objectif de l'algorithme\n"
   ]
  },
  {
   "cell_type": "code",
   "execution_count": 3,
   "metadata": {},
   "outputs": [
    {
     "name": "stdout",
     "output_type": "stream",
     "text": [
      "\n",
      "ans =\n",
      "\n",
      "     1   256\n",
      "\n",
      "\n",
      "ans =\n",
      "\n",
      "     1   256\n",
      "\n",
      "\n"
     ]
    }
   ],
   "source": [
    "shiftrow = [1, 6, 11, 16, 5, 10, 15, 4, 9, 14, 3, 8, 13, 2, 7, 12];\n",
    "shiftrow = reshape(shiftrow, [4 4]);\n",
    "\n",
    "SBox = [99, 124, 119, 123, 242, 107, 111, 197, 48, 1, 103, 43, 254, 215, 171, 118, 202, 130, 201, 125, 250, 89, 71, 240, 173, 212, 162, 175, 156, 164, 114, 192, 183, 253, 147, 38, 54, 63, 247, 204, 52, 165, 229, 241, 113, 216, 49, 21, 4, 199, 35, 195, 24, 150, 5, 154, 7, 18, 128, 226, 235, 39, 178, 117, 9, 131, 44, 26, 27, 110, 90, 160, 82, 59, 214, 179, 41, 227, 47, 132, 83, 209, 0, 237, 32, 252, 177, 91, 106, 203, 190, 57, 74, 76, 88, 207, 208, 239, 170, 251, 67, 77, 51, 133, 69, 249, 2, 127, 80, 60, 159, 168, 81, 163, 64, 143, 146, 157, 56, 245, 188, 182, 218, 33, 16, 255, 243, 210, 205, 12, 19, 236, 95, 151, 68, 23, 196, 167, 126, 61, 100, 93, 25, 115, 96, 129, 79, 220, 34, 42, 144, 136, 70, 238, 184, 20, 222, 94, 11, 219, 224, 50, 58, 10, 73, 6, 36, 92, 194, 211, 172, 98, 145, 149, 228, 121, 231, 200, 55, 109, 141, 213, 78, 169, 108, 86, 244, 234, 101, 122, 174, 8, 186, 120, 37, 46, 28, 166, 180, 198, 232, 221, 116, 31, 75, 189, 139, 138, 112, 62, 181, 102, 72, 3, 246, 14, 97, 53, 87, 185, 134, 193, 29, 158, 225, 248, 152, 17, 105, 217, 142, 148, 155, 30, 135, 233, 206, 85, 40, 223, 140, 161, 137, 13, 191, 230, 66, 104, 65, 153, 45, 15, 176, 84, 187, 22];\n",
    "\n",
    "invSBox(SBox(1:256) + 1) = 0:255;\n",
    "size(SBox)\n",
    "size(invSBox)\n",
    "\n",
    "Weight_Hamming_vect = [0 1 1 2 1 2 2 3 1 2 2 3 2 3 3 4 1 2 2 3 2 3 3 4 2 3 3 4 3 4 4 5 1 2 2 3 2 3 3 4 2 3 3 4 3 4 4 5 2 3 3 4 3 4 4 5 3 4 4 5 4 5 5 6 1 2 2 3 2 3 3 4 2 3 3 4 3 4 4 5 2 3 3 4 3 4 4 5 3 4 4 5 4 5 5 6 2 3 3 4 3 4 4 5 3 4 4 5 4 5 5 6 3 4 4 5 4 5 5 6 4 5 5 6 5 6 6 7 1 2 2 3 2 3 3 4 2 3 3 4 3 4 4 5 2 3 3 4 3 4 4 5 3 4 4 5 4 5 5 6 2 3 3 4 3 4 4 5 3 4 4 5 4 5 5 6 3 4 4 5 4 5 5 6 4 5 5 6 5 6 6 7 2 3 3 4 3 4 4 5 3 4 4 5 4 5 5 6 3 4 4 5 4 5 5 6 4 5 5 6 5 6 6 7 3 4 4 5 4 5 5 6 4 5 5 6 5 6 6 7 4 5 5 6 5 6 6 7 5 6 6 7 6 7 7 8];\n"
   ]
  },
  {
   "cell_type": "markdown",
   "metadata": {},
   "source": [
    "# A faire\n",
    "- Inversion du shiftrow (faire des tests ou à la main)\n",
    "- Calcul des Zi (Z3 notamment)\n",
    "- Comparaison de la corrélation entre les traces et les hypothèses (Zi) => on cherche à trouver le max de corrélation\n",
    "\n",
    "\n",
    "Poids Hamming déjà fourni => table de correspondance entre vals et poids hamming\n",
    "SBox-1 déjà fourni aussi => table de correspondance entre vals et vals inversées"
   ]
  },
  {
   "cell_type": "code",
   "execution_count": 5,
   "metadata": {},
   "outputs": [
    {
     "name": "stdout",
     "output_type": "stream",
     "text": [
      "\n",
      "shiftrow =\n",
      "\n",
      "     1     5     9    13\n",
      "     6    10    14     2\n",
      "    11    15     3     7\n",
      "    16     4     8    12\n",
      "\n",
      "\n",
      "keys4x4_shifted =\n",
      "\n",
      "    76   181   144   132\n",
      "   201    87    25   140\n",
      "   236    58   223     6\n",
      "   103    35   247   113\n",
      "\n",
      "\n",
      "inv_shiftrow =\n",
      "\n",
      "     1     5     9    13\n",
      "    14     2     6    10\n",
      "    11    15     3     7\n",
      "     8    12    16     4\n",
      "\n",
      "\n",
      "ans =\n",
      "\n",
      "    76   181   144   132\n",
      "   140   201    87    25\n",
      "   223     6   236    58\n",
      "    35   247   113   103\n",
      "\n",
      "\n",
      "keys4x4 =\n",
      "\n",
      "    76   181   144   132\n",
      "   140   201    87    25\n",
      "   223     6   236    58\n",
      "    35   247   113   103\n",
      "\n",
      "\n"
     ]
    }
   ],
   "source": [
    "shiftrow = [1, 6, 11, 16, 5, 10, 15, 4, 9, 14, 3, 8, 13, 2, 7, 12];\n",
    "shiftrow = reshape(shiftrow, [4 4]);\n",
    "% size(shiftrow)\n",
    "shiftrow\n",
    "keys4x4_shifted = keys4x4(shiftrow);\n",
    "keys4x4_shifted\n",
    "\n",
    "for i = 1:4\n",
    "\n",
    "    for j = 1:4\n",
    "        inv_shiftrow(i, j) = mod(shiftrow(i, j) + 8 * mod(i - 1, 2), 16);\n",
    "\n",
    "        if inv_shiftrow(i, j) == 0\n",
    "            inv_shiftrow(i, j) = 16;\n",
    "        end\n",
    "\n",
    "    end\n",
    "\n",
    "end\n",
    "\n",
    "inv_shiftrow\n",
    "keys4x4_shifted(inv_shiftrow)\n",
    "% keys4x4_shifted\n",
    "keys4x4\n",
    "% size(inv(shiftrow))\n",
    "% size(SBox)\n",
    "% size(invSBox)\n"
   ]
  },
  {
   "cell_type": "markdown",
   "metadata": {},
   "source": [
    "Penser à itérer les calculs que l'on fait sur 1 itérations pour les 16 valeurs que l'on a. (dans cto et pti)\n"
   ]
  },
  {
   "cell_type": "code",
   "execution_count": 9,
   "metadata": {},
   "outputs": [
    {
     "name": "stdout",
     "output_type": "stream",
     "text": [
      "\n",
      "ans =\n",
      "\n",
      "       20000         256\n",
      "\n",
      "\n",
      "ans =\n",
      "\n",
      "       20000         256\n",
      "\n",
      "\n",
      "ans =\n",
      "\n",
      "  10x10 uint8 matrix\n",
      "\n",
      "    85    84    87    86    81    80    83    82    93    92\n",
      "   110   111   108   109   106   107   104   105   102   103\n",
      "    30    31    28    29    26    27    24    25    22    23\n",
      "   137   136   139   138   141   140   143   142   129   128\n",
      "   239   238   237   236   235   234   233   232   231   230\n",
      "   121   120   123   122   125   124   127   126   113   112\n",
      "   155   154   153   152   159   158   157   156   147   146\n",
      "   208   209   210   211   212   213   214   215   216   217\n",
      "    15    14    13    12    11    10     9     8     7     6\n",
      "   244   245   246   247   240   241   242   243   252   253\n",
      "\n",
      "\n",
      "ans =\n",
      "\n",
      "       20000         256\n",
      "\n",
      "\n"
     ]
    }
   ],
   "source": [
    "hypothese = uint8(ones(size(cto, 1), 1) * (0:255));\n",
    "size(hypothese)\n",
    "cto_extended = uint8(single(cto(:, 1)) * ones(1, 256));\n",
    "size(cto_extended)\n",
    "\n",
    "Z1 = bitxor(cto_extended, hypothese);\n",
    "Z1(1:10, 1:10)\n",
    "size(Z1)\n",
    "\n",
    "% On inverse le vecteur shiftrow\n",
    "% Z2 = Z1(inv_shiftrow)\n",
    "% Z2(1:10, 1:10)\n",
    "% size(Z2)\n",
    "% Z2 = shiftrow(Z1);"
   ]
  },
  {
   "cell_type": "code",
   "execution_count": 5,
   "metadata": {},
   "outputs": [
    {
     "name": "stdout",
     "output_type": "stream",
     "text": [
      "\n",
      "ans =\n",
      "\n",
      "       20000         256\n",
      "\n",
      "\n",
      "ans =\n",
      "\n",
      "     1   256\n",
      "\n",
      "\n"
     ]
    }
   ],
   "source": [
    "size(Z1)\n",
    "size(Weight_Hamming_vect)\n",
    "pt_attack1=Z1(Weight_Hamming_vect+1);\n",
    "pt2=Weight_Hamming_vect(Z1+1);\n",
    "% size(pt_attack1)\n",
    "sum(pt_attack1);\n",
    "% pt2=sum(pt2);"
   ]
  },
  {
   "cell_type": "code",
   "execution_count": 21,
   "metadata": {},
   "outputs": [
    {
     "name": "stdout",
     "output_type": "stream",
     "text": [
      "\n"
     ]
    },
    {
     "data": {
      "image/png": "[encoded data removed]",
      "text/plain": [
       "<IPython.core.display.Image object>"
      ]
     },
     "metadata": {},
     "output_type": "display_data"
    }
   ],
   "source": [
    "pt2_mean = mean(pt2);\n",
    "plot(pt2_mean)\n",
    "% plot(pt2)"
   ]
  },
  {
   "cell_type": "code",
   "execution_count": 7,
   "metadata": {},
   "outputs": [
    {
     "name": "stdout",
     "output_type": "stream",
     "text": [
      "\n",
      "ans =\n",
      "\n",
      "       20000         256\n",
      "\n",
      "\n",
      "ans =\n",
      "\n",
      "       20000         256\n",
      "\n",
      "\n"
     ]
    }
   ],
   "source": [
    "Z3=invSBox(Z1+1);\n",
    "size(Z3)\n",
    "pt3=Weight_Hamming_vect(Z3+1);\n",
    "size(pt3)"
   ]
  },
  {
   "cell_type": "code",
   "execution_count": 11,
   "metadata": {},
   "outputs": [
    {
     "name": "stdout",
     "output_type": "stream",
     "text": [
      "\n",
      "ans =\n",
      "\n",
      "       20000         256\n",
      "\n",
      "\n"
     ]
    },
    {
     "data": {
      "image/png": "[encoded data removed]",
      "text/plain": [
       "<IPython.core.display.Image object>"
      ]
     },
     "metadata": {},
     "output_type": "display_data"
    }
   ],
   "source": [
    "distance_hamming = Weight_Hamming_vect(bitxor(uint8(Z3), uint8(Z1))+1);\n",
    "size(distance_hamming)\n",
    "plot(sum(distance_hamming))"
   ]
  },
  {
   "cell_type": "code",
   "execution_count": 10,
   "metadata": {},
   "outputs": [
    {
     "name": "stdout",
     "output_type": "stream",
     "text": [
      "\n",
      "ans =\n",
      "\n",
      "     1   256\n",
      "\n",
      "\n"
     ]
    },
    {
     "data": {
      "image/png": "[encoded data removed]",
      "text/plain": [
       "<IPython.core.display.Image object>"
      ]
     },
     "metadata": {},
     "output_type": "display_data"
    }
   ],
   "source": [
    "pt3_affichage = sum(pt3);\n",
    "size(pt3_affichage)\n",
    "plot(pt3_affichage)\n",
    "% plot(pt3)"
   ]
  },
  {
   "cell_type": "code",
   "execution_count": 12,
   "metadata": {},
   "outputs": [
    {
     "name": "stdout",
     "output_type": "stream",
     "text": [
      "\n",
      "ans =\n",
      "\n",
      "         256        4000\n",
      "\n",
      "\n"
     ]
    }
   ],
   "source": [
    "correlation = corr(single(distance_hamming), traces);\n",
    "% corr(single(pt3), traces);\n",
    "size(correlation)\n",
    "% plot(0:size(correlation, 2) - 1, correlation(1:256, :));"
   ]
  },
  {
   "cell_type": "code",
   "execution_count": 19,
   "metadata": {},
   "outputs": [
    {
     "name": "stdout",
     "output_type": "stream",
     "text": [
      "\n",
      "ans =\n",
      "\n",
      "    'meilleur candidat : k = 68 RK = 3.662976e-02 size IK = 256meilleur candidat : k = 1 RK = '\n",
      "\n",
      "\n"
     ]
    }
   ],
   "source": [
    "[RK,IK] = sort(max(abs(correlation),[],2),'descend');\n",
    "sprintf('meilleur candidat : k = %d RK = %d size IK = %d',IK(1), RK(1), size(IK))\n",
    "best_candidate=IK(1);"
   ]
  },
  {
   "cell_type": "code",
   "execution_count": 13,
   "metadata": {},
   "outputs": [
    {
     "name": "stdout",
     "output_type": "stream",
     "text": [
      "\n",
      "ans =\n",
      "\n",
      "       20000          16\n",
      "\n",
      "\n",
      "ans =\n",
      "\n",
      "       20000          16\n",
      "\n",
      "\n",
      "ans =\n",
      "\n",
      "   139    80    97   202   214   174   106   164    54   158   172   153    88    93    43   203\n",
      "\n",
      "\n",
      "ans =\n",
      "\n",
      "    85    75    64   125    54    52    21   108     8    26   190    49   117    46   189     2\n",
      "\n",
      "\n"
     ]
    }
   ],
   "source": [
    "\n",
    "size(pti)\n",
    "size(cto)\n",
    "pti(1, :)\n",
    "\n",
    "cto(1, :)"
   ]
  },
  {
   "cell_type": "code",
   "execution_count": 14,
   "metadata": {},
   "outputs": [
    {
     "name": "stdout",
     "output_type": "stream",
     "text": [
      "\n",
      "ans =\n",
      "\n",
      "       20000         256\n",
      "\n",
      "\n"
     ]
    }
   ],
   "source": [
    "matrix = ones(size(cto,1),1) * (0:255);\n",
    "size(matrix)\n",
    "\n",
    "% matrix2= single(cto) * ones(1, 16);\n",
    "% size(matrix2)"
   ]
  },
  {
   "attachments": {},
   "cell_type": "markdown",
   "metadata": {},
   "source": [
    "# Programme complet - attaque par analyse EMA\n",
    "Ci-dessous se trouve le programme complet qui est un assemblage de tous les éléments ci-dessus. Il permet de réaliser l'attaque par analyse EMA.\n",
    "Le programme renvoie la clé trouvée lors de l'attaque."
   ]
  },
  {
   "attachments": {},
   "cell_type": "markdown",
   "metadata": {},
   "source": [
    "# Note sur la distance de Hamming\n",
    "Pour faire le bon calcul de distance de hamming, il faut comparer les bonnes valeurs entre elles. Ainsi, quand on commence avec la valeur $cto_{1,1}$, on doit la comparer avec la valeur $cto_{1,1}$ après passage dans l'algo. Ensuite, la valeur $cto_{2,1}$ sera comparée avec la valeur $cto_{2,4}$ après passage dans l'algo car on doit faire la comparaison des mêmes valeurs. (Fonctionnement du `shiftrow`)\n",
    "\n",
    "\n",
    "<!-- Matrices de cto -->\n",
    "Matrice de cto avant passage dans l'algo : \n",
    "$\\begin{pmatrix}\n",
    "\\text{cto}_{1,1} & \\text{cto}_{1,2} & \\text{cto}_{1,3} & \\text{cto}_{1,4} \\\\\n",
    "\\text{cto}_{2,1} & \\text{cto}_{2,2} & \\text{cto}_{2,3} & \\text{cto}_{2,4} \\\\\n",
    "\\text{cto}_{3,1} & \\text{cto}_{3,2} & \\text{cto}_{3,3} & \\text{cto}_{3,4} \\\\\n",
    "\\text{cto}_{4,1} & \\text{cto}_{4,2} & \\text{cto}_{4,3} & \\text{cto}_{4,4} \\\\\n",
    "\\end{pmatrix}$\n",
    "\n",
    "Matrice de cto après passage dans l'algo :\n",
    "$\\begin{pmatrix}\n",
    "\\text{cto}_{1,1} & \\text{cto}_{1,2} & \\text{cto}_{1,3} & \\text{cto}_{1,4} \\\\\n",
    "\\text{cto}_{2,4} & \\text{cto}_{2,1} & \\text{cto}_{2,2} & \\text{cto}_{2,3} \\\\\n",
    "\\text{cto}_{3,3} & \\text{cto}_{3,4} & \\text{cto}_{3,1} & \\text{cto}_{3,2} \\\\\n",
    "\\text{cto}_{4,2} & \\text{cto}_{4,3} & \\text{cto}_{4,4} & \\text{cto}_{4,1} \\\\\n",
    "\\end{pmatrix}$"
   ]
  },
  {
   "cell_type": "code",
   "execution_count": 4,
   "metadata": {},
   "outputs": [
    {
     "name": "stdout",
     "output_type": "stream",
     "text": [
      "\n",
      "line =\n",
      "\n",
      "     1     5     9    13\n",
      "     2     6    10    14\n",
      "     3     7    11    15\n",
      "     4     8    12    16\n",
      "\n",
      "\n",
      "line =\n",
      "\n",
      "     1     5     9    13\n",
      "    14     2     6    10\n",
      "    11    15     3     7\n",
      "     8    12    16     4\n",
      "\n",
      "\n"
     ]
    }
   ],
   "source": [
    "line = 1:16;\n",
    "line = reshape(line, [4 4]);\n",
    "line\n",
    "for i = 1:4\n",
    "    line(i, :) = circshift(line(i, :), i - 1);    \n",
    "end\n",
    "line"
   ]
  },
  {
   "cell_type": "code",
   "execution_count": 17,
   "metadata": {},
   "outputs": [
    {
     "name": "stdout",
     "output_type": "stream",
     "text": [
      "\n",
      "ans =\n",
      "\n",
      "           1           4       20000\n",
      "\n",
      "\n",
      "ans(:,:,1) =\n",
      "\n",
      "    85    54     8   117\n",
      "\n",
      "\n",
      "ans(:,:,2) =\n",
      "\n",
      "   110   229   213   178\n",
      "\n",
      "\n",
      "ans(:,:,3) =\n",
      "\n",
      "    30   130   250    63\n",
      "\n",
      "\n",
      "ans(:,:,1) =\n",
      "\n",
      "   117    85    54     8\n",
      "\n",
      "\n",
      "ans(:,:,2) =\n",
      "\n",
      "   178   110   229   213\n",
      "\n",
      "\n",
      "ans(:,:,3) =\n",
      "\n",
      "    63    30   130   250\n",
      "\n",
      "\n"
     ]
    }
   ],
   "source": [
    "cto4x4=reshape(cto, [4 4 size(cto, 1)]);\n",
    "size(cto4x4);\n",
    "for i = 1:size(cto, 1)\n",
    "    cto4x4(:,:,i) = reshape(cto(i, :), [4 4]);\n",
    "end\n",
    "reshape(cto(1, :), [4 4]);\n",
    "cto4x4(:,:,100);\n",
    "size(cto4x4(1,:,:))\n",
    "cto4x4(1,:,1:3)\n",
    "circshift(cto4x4(1,:,1:3), 1)"
   ]
  },
  {
   "cell_type": "code",
   "execution_count": 18,
   "metadata": {},
   "outputs": [
    {
     "name": "stderr",
     "output_type": "stream",
     "text": [
      "\u001b[1;31mArguments must be 2-D, or at least one argument must be scalar. Use TIMES (.*) for elementwise multiplication, use PAGEMTIMES to apply matrix multiplication to the pages of N-D arrays, or use TENSORPROD to find a product between two N-D arrays.\n",
      "\n",
      "\u001b[0m"
     ]
    }
   ],
   "source": [
    "keys4x4 = reshape(keys(1, :), [4 4]);\n",
    "all_w = keysched2(uint32(keys4x4));\n",
    "w10 = all_w(:, :, 11) % point d'arrivée. Objectif de l'algorithme. (w10)\n",
    "\n",
    "% reshape de cto en 4x4xsize(cto, 1) => 4x4x20000 ici.\n",
    "for i = 1:size(cto, 1)\n",
    "    cto4x4(:,:,i) = reshape(cto(i, :), [4 4]);\n",
    "end\n",
    "% Hypothèse linéaire de sous-clés (256 possibilités)\n",
    "hypothese = uint32(ones(size(cto, 1), 1) * (0:255));\n",
    "\n",
    "for i = 1:4\n",
    "    cto_line = cto4x4(i, :, :); % 1x4x20000\n",
    "    cto_line_shifted = circshift(cto_line, i-1);\n",
    "    for j = 1:4\n",
    "        % Hypothese\n",
    "        cto_extended = uint32(single(cto_line(i,j,:)) * ones(1, 256));\n",
    "        cto_extended_shifted = uint32(single(cto_line_shifted(i,j,:)) * ones(1, 256));\n",
    "        % Points d'attaque\n",
    "        Z1(:,:,j) = bitxor(cto_extended, hypothese);\n",
    "        Z1_shifted(:,:,j) = bitxor(cto_extended_shifted, hypothese);\n",
    "        Z3(:,:,j) = invSBox(Z1_shifted(:,:,j) + 1);\n",
    "    end\n",
    "    distance_hamming = Weight_Hamming_vect(bitxor(uint32(Z3), uint32(Z1)) + 1);\n",
    "    % Correlation\n",
    "    correlation = corr(single(distance_hamming), traces);\n",
    "    [RK, IK] = sort(max(abs(correlation), [], 2), 'descend');\n",
    "    % sprintf('meilleur candidat : k = %d RK = %d size IK = (%d,%d)', IK(1), RK(1), size(IK))\n",
    "    best_candidate(i) = IK(1);\n",
    "end\n",
    "best_candidate = reshape(best_candidate, [4 4])\n"
   ]
  }
 ],
 "metadata": {
  "kernelspec": {
   "display_name": "Matlab",
   "language": "matlab",
   "name": "matlab"
  },
  "language_info": {
   "codemirror_mode": "octave",
   "file_extension": ".m",
   "help_links": [
    {
     "text": "MetaKernel Magics",
     "url": "https://metakernel.readthedocs.io/en/latest/source/README.html"
    }
   ],
   "mimetype": "text/x-octave",
   "name": "matlab",
   "version": "0.17.1"
  },
  "vscode": {
   "interpreter": {
    "hash": "05fa5a9a77402fe086a4636f9a71778fa4ca2530c7be19dde571ce0f59a17cd3"
   }
  }
 },
 "nbformat": 4,
 "nbformat_minor": 2
}
