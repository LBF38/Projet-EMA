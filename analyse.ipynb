{
 "cells": [
  {
   "attachments": {},
   "cell_type": "markdown",
   "metadata": {},
   "source": [
    "# Analyse des traces électromagnétiques\n",
    "Nous allons analyser les traces collectées sur l'appareil à attaquer. En émettant des hypothèses de clés et en les testant sur les traces, nous allons pouvoir déterminer la clé utilisée pour chiffrer les données.\n",
    "\n",
    "L'algorithme visée est l'AES-128. Il est basé sur 10 tours de chiffrement des données. Chaque tour réalise 3 opérations : \n",
    "- une substitution de bits (S-Box)\n",
    "- un décalage de bits (ShiftRows)\n",
    "- une multiplication de bits (MixColumns)\n",
    "\n",
    "Dans notre cas, nous allons partir des textes chiffrés pour remonter l'algorithme sur le dernier tour et ainsi trouver la clé.\n",
    "\n",
    "Voici un schéma qui illustre l'attaque :\\\n",
    "***Insérer l'image du schéma***"
   ]
  },
  {
   "cell_type": "code",
   "execution_count": 1,
   "metadata": {},
   "outputs": [
    {
     "name": "stdout",
     "output_type": "stream",
     "text": [
      "Tailles des matrices :\n",
      "keys : 20000     16\n",
      "pti : 20000     16\n",
      "cto : 20000     16\n",
      "traces : 20000   4000\n",
      "\n"
     ]
    }
   ],
   "source": [
    "directory = 'TRACES_DATA_CONVERTED';\n",
    "load('TRACES_DATA_CONVERTED\\keys.mat')\n",
    "load('TRACES_DATA_CONVERTED\\pti.mat')\n",
    "load('TRACES_DATA_CONVERTED\\cto.mat')\n",
    "load('TRACES_DATA_CONVERTED\\traces.mat')\n",
    "\n",
    "disp('Tailles des matrices :')\n",
    "disp(['keys : ' num2str(size(keys))])\n",
    "disp(['pti : ' num2str(size(pti))])\n",
    "disp(['cto : ' num2str(size(cto))])\n",
    "disp(['traces : ' num2str(size(traces))])"
   ]
  },
  {
   "cell_type": "markdown",
   "metadata": {},
   "source": [
    "# Affichage de la moyenne des traces\n",
    "On trace la moyenne des traces sur un graphique. On voit que l'on obtient 12 pics. Or, on sait que l'AES-128 est sur 10 tours. \n",
    "Cette différence vient d'une mauvaise implémentation matérielle. C'est notamment pour cela que l'on attaque par le bas de l'algorithme.\n",
    "=> On attaque sur le 10e round."
   ]
  },
  {
   "cell_type": "code",
   "execution_count": 2,
   "metadata": {},
   "outputs": [
    {
     "name": "stdout",
     "output_type": "stream",
     "text": [
      "\n"
     ]
    },
    {
     "data": {
      "image/png": "[encoded data removed]",
      "text/plain": [
       "<IPython.core.display.Image object>"
      ]
     },
     "metadata": {},
     "output_type": "display_data"
    }
   ],
   "source": [
    "traces_mean = mean(traces);\n",
    "figure\n",
    "plot(traces_mean)"
   ]
  },
  {
   "attachments": {},
   "cell_type": "markdown",
   "metadata": {},
   "source": [
    "## Analyse du graphique\n",
    "On constate ici que le 10e round est entre 3000 et 3500. On peut donc réduire l'étude à cette plage."
   ]
  },
  {
   "attachments": {},
   "cell_type": "markdown",
   "metadata": {},
   "source": [
    "## Objectif\n",
    "On cherche à inverser les fonctions de chiffrement. \n",
    "Notamment, on cherche à inverser la S_Box.\n",
    "\n",
    "Etape 1 : on cherche les hypothèses sur les clés => $w_{10}$ \\\n",
    "Etape 2 : on crée toutes les hypothèses pour les sous-clés => $Z$ de dimension $[N_t \\times 256]$ \\\n",
    "Etape 3 : on remonte les boîtes de l'algo (ShiftRow et SBox) \\\n",
    "Etape 4 : on fait une corrélation entre les traces et les hypothèses"
   ]
  },
  {
   "attachments": {},
   "cell_type": "markdown",
   "metadata": {},
   "source": [
    "Calcul de $w_{10}$ à partir de la clé fourni dans les fichiers des traces."
   ]
  },
  {
   "cell_type": "code",
   "execution_count": 3,
   "metadata": {},
   "outputs": [
    {
     "name": "stdout",
     "output_type": "stream",
     "text": [
      "\n",
      "keys4x4 =\n",
      "\n",
      "    76   181   144   132\n",
      "   140   201    87    25\n",
      "   223     6   236    58\n",
      "    35   247   113   103\n",
      "\n",
      "\n",
      "w10 =\n",
      "\n",
      "  4x4 uint32 matrix\n",
      "\n",
      "    60    64    77    37\n",
      "    71   214    56   251\n",
      "    64   128     0   120\n",
      "     1   146   185   176\n",
      "\n",
      "\n"
     ]
    }
   ],
   "source": [
    "keys4x4 = reshape(keys(1, :), [4 4])\n",
    "all_w = keysched2(uint32(keys4x4));\n",
    "\n",
    "all_w;\n",
    "w10 = all_w(:, :, 11) % point d'arrivée. Objectif de l'algorithme\n"
   ]
  },
  {
   "attachments": {},
   "cell_type": "markdown",
   "metadata": {},
   "source": [
    "Fonctions fournis par le professeur pour réaliser l'analyse."
   ]
  },
  {
   "cell_type": "code",
   "execution_count": 4,
   "metadata": {},
   "outputs": [
    {
     "name": "stdout",
     "output_type": "stream",
     "text": [
      "\n",
      "ans =\n",
      "\n",
      "     1   256\n",
      "\n",
      "\n",
      "ans =\n",
      "\n",
      "     1   256\n",
      "\n",
      "\n"
     ]
    }
   ],
   "source": [
    "shiftrow = [1, 6, 11, 16, 5, 10, 15, 4, 9, 14, 3, 8, 13, 2, 7, 12];\n",
    "shiftrow = reshape(shiftrow, [4 4]);\n",
    "\n",
    "SBox = [99, 124, 119, 123, 242, 107, 111, 197, 48, 1, 103, 43, 254, 215, 171, 118, 202, 130, 201, 125, 250, 89, 71, 240, 173, 212, 162, 175, 156, 164, 114, 192, 183, 253, 147, 38, 54, 63, 247, 204, 52, 165, 229, 241, 113, 216, 49, 21, 4, 199, 35, 195, 24, 150, 5, 154, 7, 18, 128, 226, 235, 39, 178, 117, 9, 131, 44, 26, 27, 110, 90, 160, 82, 59, 214, 179, 41, 227, 47, 132, 83, 209, 0, 237, 32, 252, 177, 91, 106, 203, 190, 57, 74, 76, 88, 207, 208, 239, 170, 251, 67, 77, 51, 133, 69, 249, 2, 127, 80, 60, 159, 168, 81, 163, 64, 143, 146, 157, 56, 245, 188, 182, 218, 33, 16, 255, 243, 210, 205, 12, 19, 236, 95, 151, 68, 23, 196, 167, 126, 61, 100, 93, 25, 115, 96, 129, 79, 220, 34, 42, 144, 136, 70, 238, 184, 20, 222, 94, 11, 219, 224, 50, 58, 10, 73, 6, 36, 92, 194, 211, 172, 98, 145, 149, 228, 121, 231, 200, 55, 109, 141, 213, 78, 169, 108, 86, 244, 234, 101, 122, 174, 8, 186, 120, 37, 46, 28, 166, 180, 198, 232, 221, 116, 31, 75, 189, 139, 138, 112, 62, 181, 102, 72, 3, 246, 14, 97, 53, 87, 185, 134, 193, 29, 158, 225, 248, 152, 17, 105, 217, 142, 148, 155, 30, 135, 233, 206, 85, 40, 223, 140, 161, 137, 13, 191, 230, 66, 104, 65, 153, 45, 15, 176, 84, 187, 22];\n",
    "\n",
    "invSBox(SBox(1:256) + 1) = 0:255;\n",
    "size(SBox)\n",
    "size(invSBox)\n",
    "\n",
    "Weight_Hamming_vect = [0 1 1 2 1 2 2 3 1 2 2 3 2 3 3 4 1 2 2 3 2 3 3 4 2 3 3 4 3 4 4 5 1 2 2 3 2 3 3 4 2 3 3 4 3 4 4 5 2 3 3 4 3 4 4 5 3 4 4 5 4 5 5 6 1 2 2 3 2 3 3 4 2 3 3 4 3 4 4 5 2 3 3 4 3 4 4 5 3 4 4 5 4 5 5 6 2 3 3 4 3 4 4 5 3 4 4 5 4 5 5 6 3 4 4 5 4 5 5 6 4 5 5 6 5 6 6 7 1 2 2 3 2 3 3 4 2 3 3 4 3 4 4 5 2 3 3 4 3 4 4 5 3 4 4 5 4 5 5 6 2 3 3 4 3 4 4 5 3 4 4 5 4 5 5 6 3 4 4 5 4 5 5 6 4 5 5 6 5 6 6 7 2 3 3 4 3 4 4 5 3 4 4 5 4 5 5 6 3 4 4 5 4 5 5 6 4 5 5 6 5 6 6 7 3 4 4 5 4 5 5 6 4 5 5 6 5 6 6 7 4 5 5 6 5 6 6 7 5 6 6 7 6 7 7 8];\n"
   ]
  },
  {
   "cell_type": "markdown",
   "metadata": {},
   "source": [
    "# A faire\n",
    "- Inversion du shiftrow (faire des tests ou à la main)\n",
    "- Calcul des Zi (Z3 notamment)\n",
    "- Comparaison de la corrélation entre les traces et les hypothèses (Zi) => on cherche à trouver le max de corrélation\n",
    "\n",
    "\n",
    "Poids Hamming déjà fourni => table de correspondance entre vals et poids hamming\n",
    "SBox-1 déjà fourni aussi => table de correspondance entre vals et vals inversées"
   ]
  },
  {
   "cell_type": "code",
   "execution_count": 5,
   "metadata": {},
   "outputs": [
    {
     "name": "stdout",
     "output_type": "stream",
     "text": [
      "\n",
      "ans =\n",
      "\n",
      "       20000         256\n",
      "\n",
      "\n",
      "ans =\n",
      "\n",
      "       20000         256\n",
      "\n",
      "\n",
      "ans =\n",
      "\n",
      "       20000         256\n",
      "\n",
      "\n"
     ]
    }
   ],
   "source": [
    "hypothese = uint8(ones(size(cto, 1), 1) * (0:255));\n",
    "size(hypothese)\n",
    "cto_extended = uint8(single(cto(:, 1)) * ones(1, 256));\n",
    "size(cto_extended)\n",
    "\n",
    "Z1 = bitxor(cto_extended, hypothese);\n",
    "Z1(1:10, 1:10);\n",
    "size(Z1)"
   ]
  },
  {
   "cell_type": "code",
   "execution_count": 5,
   "metadata": {},
   "outputs": [
    {
     "name": "stdout",
     "output_type": "stream",
     "text": [
      "\n",
      "ans =\n",
      "\n",
      "       20000         256\n",
      "\n",
      "\n",
      "ans =\n",
      "\n",
      "     1   256\n",
      "\n",
      "\n"
     ]
    }
   ],
   "source": [
    "size(Z1)\n",
    "size(Weight_Hamming_vect)\n",
    "pt_attack1=Z1(Weight_Hamming_vect+1);\n",
    "pt2=Weight_Hamming_vect(Z1+1);\n",
    "% size(pt_attack1)\n",
    "sum(pt_attack1);\n",
    "% pt2=sum(pt2);"
   ]
  },
  {
   "cell_type": "code",
   "execution_count": 6,
   "metadata": {},
   "outputs": [
    {
     "name": "stdout",
     "output_type": "stream",
     "text": [
      "\n",
      "ans =\n",
      "\n",
      "       20000         256\n",
      "\n",
      "\n",
      "ans =\n",
      "\n",
      "       20000         256\n",
      "\n",
      "\n"
     ]
    }
   ],
   "source": [
    "Z3=invSBox(Z1+1);\n",
    "size(Z3)\n",
    "pt3=Weight_Hamming_vect(Z3+1);\n",
    "size(pt3)"
   ]
  },
  {
   "cell_type": "code",
   "execution_count": 13,
   "metadata": {},
   "outputs": [
    {
     "name": "stdout",
     "output_type": "stream",
     "text": [
      "\n",
      "ans =\n",
      "\n",
      "       20000         256\n",
      "\n",
      "\n"
     ]
    }
   ],
   "source": [
    "dh_13 = Weight_Hamming_vect(bitxor(uint8(Z3), uint8(Z1)) + 1);\n",
    "dh_03 = Weight_Hamming_vect(bitxor(uint8(Z3), uint8(cto_extended)) + 1);\n",
    "ph_3 = Weight_Hamming_vect(uint8(Z3) + 1);\n",
    "size(dh_13)\n"
   ]
  },
  {
   "cell_type": "code",
   "execution_count": 10,
   "metadata": {},
   "outputs": [
    {
     "name": "stdout",
     "output_type": "stream",
     "text": [
      "\n",
      "ans =\n",
      "\n",
      "     1   256\n",
      "\n",
      "\n"
     ]
    },
    {
     "data": {
      "image/png": "[encoded data removed]",
      "text/plain": [
       "<IPython.core.display.Image object>"
      ]
     },
     "metadata": {},
     "output_type": "display_data"
    }
   ],
   "source": [
    "pt3_affichage = sum(pt3);\n",
    "size(pt3_affichage)\n",
    "plot(pt3_affichage)\n",
    "% plot(pt3)"
   ]
  },
  {
   "cell_type": "code",
   "execution_count": 8,
   "metadata": {},
   "outputs": [
    {
     "name": "stdout",
     "output_type": "stream",
     "text": [
      "\n",
      "ans =\n",
      "\n",
      "         256        4000\n",
      "\n",
      "\n"
     ]
    }
   ],
   "source": [
    "correlation = corr(single(dh_13), traces);\n",
    "% corr(single(pt3), traces);\n",
    "size(correlation)\n",
    "% plot(0:size(correlation, 2) - 1, correlation(1:256, :));"
   ]
  },
  {
   "attachments": {},
   "cell_type": "markdown",
   "metadata": {},
   "source": [
    "## Affichage de la corrélation\n",
    "On affiche la corrélation entre les traces et les hypothèses. On voit que la corrélation est maximale pour la courbe en rouge. Cela signifie que cette valeur est la plus probable pour la clé $w_{10}$.\n",
    "\n",
    "Il est important que la différence entre les courbes bleues et celle rouge soit suffisamment grande pour bien s'assurer de la prédiction de la valeur de la clé."
   ]
  },
  {
   "cell_type": "code",
   "execution_count": 61,
   "metadata": {},
   "outputs": [
    {
     "name": "stdout",
     "output_type": "stream",
     "text": [
      "\n",
      "ans =\n",
      "\n",
      "     2\n",
      "\n",
      "\n"
     ]
    },
    {
     "data": {
      "image/png": "[encoded data removed]",
      "text/plain": [
       "<IPython.core.display.Image object>"
      ]
     },
     "metadata": {},
     "output_type": "display_data"
    }
   ],
   "source": [
    "idxmin = 3000;\n",
    "idxmax = 3300;\n",
    "correlation = corr(single(dh_03), traces);\n",
    "correlation = correlation(:,idxmin:idxmax);\n",
    "[RK, IK] = sort(max(abs(correlation), [], 2), 'descend');\n",
    "figure\n",
    "plot((0:size(correlation, 2) - 1), correlation(IK(1), :), 'r')\n",
    "hold on\n",
    "\n",
    "if IK(1) == 1\n",
    "    plot((0:size(correlation, 2) - 1), correlation(2:end, :), 'b')\n",
    "else\n",
    "\n",
    "    if IK(1) == 16\n",
    "        plot((0:size(correlation, 2) - 1), correlation(1:end - 1, :), 'b')\n",
    "    else\n",
    "        plot((0:size(correlation, 2) - 1), correlation(1:IK(1) - 1, :), 'b')\n",
    "        plot((0:size(correlation, 2) - 1), correlation(IK(1) + 1:end, :), 'b')\n",
    "    end\n",
    "\n",
    "end\n",
    "IK(1)"
   ]
  },
  {
   "attachments": {},
   "cell_type": "markdown",
   "metadata": {},
   "source": [
    "# Programme complet - attaque par analyse EMA\n",
    "Ci-dessous se trouve le programme complet qui est un assemblage de tous les éléments ci-dessus. Il permet de réaliser l'attaque par analyse EMA.\n",
    "Le programme renvoie la clé trouvée lors de l'attaque."
   ]
  },
  {
   "attachments": {},
   "cell_type": "markdown",
   "metadata": {},
   "source": [
    "## Note sur la distance de Hamming\n",
    "Pour faire le bon calcul de distance de hamming, il faut comparer les bonnes valeurs entre elles. Ainsi, quand on commence avec la valeur $cto_{1,1}$, on doit la comparer avec la valeur $cto_{1,1}$ après passage dans l'algo. Ensuite, la valeur $cto_{2,1}$ sera comparée avec la valeur $cto_{2,4}$ après passage dans l'algo car on doit faire la comparaison des mêmes valeurs. (Fonctionnement du `shiftrow`)\n",
    "\n",
    "\n",
    "<!-- Matrices de cto -->\n",
    "Matrice de cto avant passage dans l'algo : \n",
    "$\\begin{pmatrix}\n",
    "\\text{cto}_{1,1} & \\text{cto}_{1,2} & \\text{cto}_{1,3} & \\text{cto}_{1,4} \\\\\n",
    "\\text{cto}_{2,1} & \\text{cto}_{2,2} & \\text{cto}_{2,3} & \\text{cto}_{2,4} \\\\\n",
    "\\text{cto}_{3,1} & \\text{cto}_{3,2} & \\text{cto}_{3,3} & \\text{cto}_{3,4} \\\\\n",
    "\\text{cto}_{4,1} & \\text{cto}_{4,2} & \\text{cto}_{4,3} & \\text{cto}_{4,4} \\\\\n",
    "\\end{pmatrix}$\n",
    "\n",
    "Matrice de cto après passage dans l'algo :\n",
    "$\\begin{pmatrix}\n",
    "\\text{cto}_{1,1} & \\text{cto}_{1,2} & \\text{cto}_{1,3} & \\text{cto}_{1,4} \\\\\n",
    "\\text{cto}_{2,4} & \\text{cto}_{2,1} & \\text{cto}_{2,2} & \\text{cto}_{2,3} \\\\\n",
    "\\text{cto}_{3,3} & \\text{cto}_{3,4} & \\text{cto}_{3,1} & \\text{cto}_{3,2} \\\\\n",
    "\\text{cto}_{4,2} & \\text{cto}_{4,3} & \\text{cto}_{4,4} & \\text{cto}_{4,1} \\\\\n",
    "\\end{pmatrix}$"
   ]
  },
  {
   "attachments": {},
   "cell_type": "markdown",
   "metadata": {},
   "source": [
    "Démonstration et tests de la fonction `circshift` pour réaliser le `shiftrow` :"
   ]
  },
  {
   "cell_type": "code",
   "execution_count": 57,
   "metadata": {},
   "outputs": [
    {
     "name": "stdout",
     "output_type": "stream",
     "text": [
      "\n",
      "line =\n",
      "\n",
      "     1     5     9    13\n",
      "     2     6    10    14\n",
      "     3     7    11    15\n",
      "     4     8    12    16\n",
      "\n",
      "     1     5     9    13\n",
      "\n",
      "     1     5     9    13\n",
      "\n",
      "     1     5     9    13\n",
      "\n",
      "     2     6    10    14\n",
      "\n",
      "    14     2     6    10\n",
      "\n",
      "     2     6    10    14\n",
      "\n",
      "     3     7    11    15\n",
      "\n",
      "    11    15     3     7\n",
      "\n",
      "     3     7    11    15\n",
      "\n",
      "     4     8    12    16\n",
      "\n",
      "     8    12    16     4\n",
      "\n",
      "     4     8    12    16\n",
      "\n",
      "\n",
      "line =\n",
      "\n",
      "     1     5     9    13\n",
      "     2     6    10    14\n",
      "     3     7    11    15\n",
      "     4     8    12    16\n",
      "\n",
      "\n"
     ]
    }
   ],
   "source": [
    "line = 1:16;\n",
    "line = reshape(line, [4 4]);\n",
    "line\n",
    "\n",
    "for i = 1:4\n",
    "\n",
    "    disp(line(i, :))\n",
    "    line(i, :) = circshift(line(i, :), i - 1);\n",
    "    disp(line(i, :))\n",
    "    line(i, :) = circshift(line(i, :), 1 - i);\n",
    "    disp(line(i, :))\n",
    "\n",
    "end\n",
    "\n",
    "line\n"
   ]
  },
  {
   "cell_type": "code",
   "execution_count": 59,
   "metadata": {},
   "outputs": [
    {
     "name": "stdout",
     "output_type": "stream",
     "text": [
      "\n",
      "w10 =\n",
      "\n",
      "  4x4 uint32 matrix\n",
      "\n",
      "    60    64    77    37\n",
      "    71   214    56   251\n",
      "    64   128     0   120\n",
      "     1   146   185   176\n",
      "\n",
      "\n",
      "best_candidate =\n",
      "\n",
      "    60    64    77    37\n",
      "    71   214    56   251\n",
      "    64   128     0   120\n",
      "     1   146   185   176\n",
      "\n",
      "\n"
     ]
    }
   ],
   "source": [
    "keys4x4 = reshape(keys(1, :), [4 4]);\n",
    "all_w = keysched2(uint32(keys4x4));\n",
    "w10 = all_w(:, :, 11) % point d'arrivée. Objectif de l'algorithme. (w10)\n",
    "\n",
    "SBox = [99, 124, 119, 123, 242, 107, 111, 197, 48, 1, 103, 43, 254, 215, 171, 118, 202, 130, 201, 125, 250, 89, 71, 240, 173, 212, 162, 175, 156, 164, 114, 192, 183, 253, 147, 38, 54, 63, 247, 204, 52, 165, 229, 241, 113, 216, 49, 21, 4, 199, 35, 195, 24, 150, 5, 154, 7, 18, 128, 226, 235, 39, 178, 117, 9, 131, 44, 26, 27, 110, 90, 160, 82, 59, 214, 179, 41, 227, 47, 132, 83, 209, 0, 237, 32, 252, 177, 91, 106, 203, 190, 57, 74, 76, 88, 207, 208, 239, 170, 251, 67, 77, 51, 133, 69, 249, 2, 127, 80, 60, 159, 168, 81, 163, 64, 143, 146, 157, 56, 245, 188, 182, 218, 33, 16, 255, 243, 210, 205, 12, 19, 236, 95, 151, 68, 23, 196, 167, 126, 61, 100, 93, 25, 115, 96, 129, 79, 220, 34, 42, 144, 136, 70, 238, 184, 20, 222, 94, 11, 219, 224, 50, 58, 10, 73, 6, 36, 92, 194, 211, 172, 98, 145, 149, 228, 121, 231, 200, 55, 109, 141, 213, 78, 169, 108, 86, 244, 234, 101, 122, 174, 8, 186, 120, 37, 46, 28, 166, 180, 198, 232, 221, 116, 31, 75, 189, 139, 138, 112, 62, 181, 102, 72, 3, 246, 14, 97, 53, 87, 185, 134, 193, 29, 158, 225, 248, 152, 17, 105, 217, 142, 148, 155, 30, 135, 233, 206, 85, 40, 223, 140, 161, 137, 13, 191, 230, 66, 104, 65, 153, 45, 15, 176, 84, 187, 22];\n",
    "\n",
    "invSBox(SBox(1:256) + 1) = 0:255;\n",
    "\n",
    "Weight_Hamming_vect = [0 1 1 2 1 2 2 3 1 2 2 3 2 3 3 4 1 2 2 3 2 3 3 4 2 3 3 4 3 4 4 5 1 2 2 3 2 3 3 4 2 3 3 4 3 4 4 5 2 3 3 4 3 4 4 5 3 4 4 5 4 5 5 6 1 2 2 3 2 3 3 4 2 3 3 4 3 4 4 5 2 3 3 4 3 4 4 5 3 4 4 5 4 5 5 6 2 3 3 4 3 4 4 5 3 4 4 5 4 5 5 6 3 4 4 5 4 5 5 6 4 5 5 6 5 6 6 7 1 2 2 3 2 3 3 4 2 3 3 4 3 4 4 5 2 3 3 4 3 4 4 5 3 4 4 5 4 5 5 6 2 3 3 4 3 4 4 5 3 4 4 5 4 5 5 6 3 4 4 5 4 5 5 6 4 5 5 6 5 6 6 7 2 3 3 4 3 4 4 5 3 4 4 5 4 5 5 6 3 4 4 5 4 5 5 6 4 5 5 6 5 6 6 7 3 4 4 5 4 5 5 6 4 5 5 6 5 6 6 7 4 5 5 6 5 6 6 7 5 6 6 7 6 7 7 8];\n",
    "\n",
    "% Filtrage des données\n",
    "idxmin = 3000;\n",
    "idxmax = 3300;\n",
    "% Hypothèse linéaire de sous-clés (256 possibilités)\n",
    "hypothese = uint8(ones(size(cto, 1), 1) * (0:255));\n",
    "\n",
    "indices = 1:16;\n",
    "indices = reshape(indices, [4 4]);\n",
    "\n",
    "for ligne = 1:4\n",
    "    indices_shifted(ligne, :) = circshift(indices(ligne, :), ligne - 1);\n",
    "\n",
    "    for colonne = 1:4\n",
    "        cto_extended = uint8(single(cto(:, indices(ligne, colonne))) * ones(1, 256));\n",
    "        cto_extended_shifted = uint8(single(cto(:, indices_shifted(ligne, colonne))) * ones(1, 256));\n",
    "        Z1 = bitxor(cto_extended_shifted, hypothese);\n",
    "        Z3 = invSBox(Z1 + 1);\n",
    "        dh_03 = Weight_Hamming_vect(bitxor(uint8(Z3), uint8(cto_extended)) + 1);\n",
    "        correlation = corr(single(dh_03), traces);\n",
    "        [RK, IK] = sort(max(abs(correlation), [], 2), 'descend');\n",
    "        best_candidate(ligne, colonne) = IK(1) - 1;\n",
    "    end\n",
    "\n",
    "    best_candidate(ligne, :) = circshift(best_candidate(ligne, :), - (ligne - 1));\n",
    "\n",
    "end\n",
    "\n",
    "best_candidate\n"
   ]
  },
  {
   "attachments": {},
   "cell_type": "markdown",
   "metadata": {},
   "source": [
    "# Notes sur la corrélation\n",
    "Pour le tracé des courbes de corrélation, on n'est pas obligé de corréler sur toutes les traces ni sur toute la plage mais de prendre un échantillon proche du dernier round.\n",
    "\n",
    "Exemples d'indices pris par le prof : idxmin = 3000, idxmax = 3300"
   ]
  }
 ],
 "metadata": {
  "kernelspec": {
   "display_name": "Matlab",
   "language": "matlab",
   "name": "matlab"
  },
  "language_info": {
   "codemirror_mode": "octave",
   "file_extension": ".m",
   "help_links": [
    {
     "text": "MetaKernel Magics",
     "url": "https://metakernel.readthedocs.io/en/latest/source/README.html"
    }
   ],
   "mimetype": "text/x-octave",
   "name": "matlab",
   "version": "0.17.1"
  },
  "vscode": {
   "interpreter": {
    "hash": "05fa5a9a77402fe086a4636f9a71778fa4ca2530c7be19dde571ce0f59a17cd3"
   }
  }
 },
 "nbformat": 4,
 "nbformat_minor": 2
}
